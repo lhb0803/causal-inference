{
 "cells": [
  {
   "cell_type": "code",
   "execution_count": 1,
   "metadata": {},
   "outputs": [],
   "source": [
    "import numpy as np\n",
    "import pandas as pd"
   ]
  },
  {
   "attachments": {},
   "cell_type": "markdown",
   "metadata": {},
   "source": [
    "## AB Test Simulation\n",
    "\n",
    "* A: $N(0, 1.2^2)$\n",
    "* B: $N(1, 0.5^2)$\n",
    "* C: $N(-2, 5.5^2)$"
   ]
  },
  {
   "cell_type": "code",
   "execution_count": 2,
   "metadata": {},
   "outputs": [],
   "source": [
    "A = {\"mu\": 0, \"std\": 1.2}\n",
    "B = {\"mu\": 1, \"std\": 0.5}\n",
    "C = {\"mu\": -2, \"std\": 5.5}\n",
    "\n",
    "choices = [A, B, C]\n",
    "\n",
    "CHOICES_NAME = [\"A\", \"B\", \"C\"]"
   ]
  },
  {
   "attachments": {},
   "cell_type": "markdown",
   "metadata": {},
   "source": [
    "## 1. Greedy Algorithm"
   ]
  },
  {
   "cell_type": "code",
   "execution_count": 3,
   "metadata": {},
   "outputs": [],
   "source": [
    "def greedy(n_iter, choices, print_at_ix=100):\n",
    "    score = 0\n",
    "\n",
    "    choice_ix = 0\n",
    "    for i in range(n_iter):\n",
    "        if i == 0:\n",
    "            candidates = []\n",
    "            for c in choices:\n",
    "                candidates.append(np.random.normal(c[\"mu\"], c[\"std\"]))\n",
    "\n",
    "            choice_ix = np.argmax(candidates)\n",
    "            value = max(candidates)\n",
    "\n",
    "            score += value\n",
    "        \n",
    "        else:\n",
    "            choice = choices[choice_ix]\n",
    "            value = np.random.normal(choice[\"mu\"], choice[\"std\"])\n",
    "        \n",
    "        score += value\n",
    "        if i % print_at_ix == 0 or i == n_iter-1:\n",
    "            print(f\"iteration: {i+1:4} | choice: {CHOICES_NAME[choice_ix]} | score: {score:4.2f}\")\n",
    "        "
   ]
  },
  {
   "cell_type": "code",
   "execution_count": 4,
   "metadata": {},
   "outputs": [
    {
     "name": "stdout",
     "output_type": "stream",
     "text": [
      "iteration:    1 | choice: B | score: 2.93\n",
      "iteration:  101 | choice: B | score: 108.38\n",
      "iteration:  201 | choice: B | score: 211.22\n",
      "iteration:  301 | choice: B | score: 307.27\n",
      "iteration:  401 | choice: B | score: 403.74\n",
      "iteration:  501 | choice: B | score: 507.67\n",
      "iteration:  601 | choice: B | score: 606.15\n",
      "iteration:  701 | choice: B | score: 699.65\n",
      "iteration:  801 | choice: B | score: 794.28\n",
      "iteration:  901 | choice: B | score: 897.64\n",
      "iteration: 1000 | choice: B | score: 1003.79\n"
     ]
    }
   ],
   "source": [
    "greedy(1000, choices)"
   ]
  },
  {
   "attachments": {},
   "cell_type": "markdown",
   "metadata": {},
   "source": [
    "## 2. Epsilon-Greedy Algorithm"
   ]
  },
  {
   "cell_type": "code",
   "execution_count": 5,
   "metadata": {},
   "outputs": [],
   "source": [
    "def e_greedy(n_iter, choices, eps=0.3, print_at_ix=100):\n",
    "    score = 0\n",
    "\n",
    "    choice_ix = 0\n",
    "    for i in range(n_iter):\n",
    "        r_value = np.random.rand()\n",
    "        if i == 0 or r_value <= eps: # explore\n",
    "            candidates = []\n",
    "            for c in choices:\n",
    "                candidates.append(np.random.normal(c[\"mu\"], c[\"std\"]))\n",
    "\n",
    "            choice_ix = np.argmax(candidates)\n",
    "            value = max(candidates)\n",
    "\n",
    "            score += value\n",
    "        \n",
    "        else:\n",
    "            choice = choices[choice_ix]\n",
    "            value = np.random.normal(choice[\"mu\"], choice[\"std\"])\n",
    "        \n",
    "        score += value\n",
    "        if i % print_at_ix == 0 or i == n_iter-1:\n",
    "            print(f\"iteration: {i+1:4} | choice: {CHOICES_NAME[choice_ix]} | score: {score:4.2f}\")\n",
    "        "
   ]
  },
  {
   "cell_type": "code",
   "execution_count": 6,
   "metadata": {},
   "outputs": [
    {
     "name": "stdout",
     "output_type": "stream",
     "text": [
      "iteration:    1 | choice: A | score: 3.94\n",
      "iteration:  101 | choice: B | score: 50.44\n",
      "iteration:  201 | choice: B | score: 177.79\n",
      "iteration:  301 | choice: B | score: 311.03\n",
      "iteration:  401 | choice: B | score: 490.93\n",
      "iteration:  501 | choice: B | score: 635.64\n",
      "iteration:  601 | choice: B | score: 805.85\n",
      "iteration:  701 | choice: A | score: 908.35\n",
      "iteration:  801 | choice: B | score: 1012.83\n",
      "iteration:  901 | choice: C | score: 1168.67\n",
      "iteration: 1000 | choice: B | score: 1326.59\n"
     ]
    }
   ],
   "source": [
    "e_greedy(1000, choices, eps=0.3)"
   ]
  },
  {
   "attachments": {},
   "cell_type": "markdown",
   "metadata": {},
   "source": [
    "## 3. UCB (Upper-Confidence-Bound) Algorithm"
   ]
  },
  {
   "cell_type": "code",
   "execution_count": 17,
   "metadata": {},
   "outputs": [],
   "source": [
    "def ucb(n_iter, choices, c_val=2, print_at_ix=100):\n",
    "    score = 0\n",
    "\n",
    "    choice_ix = 0\n",
    "    n_list = [1] * len(choices)\n",
    "    \n",
    "    for i in range(n_iter):\n",
    "        candidates = []\n",
    "        for c in choices:\n",
    "            candidates.append(np.random.normal(c[\"mu\"], c[\"std\"]))\n",
    "        \n",
    "        choice_ix = np.argmax(np.array(candidates) + c_val * np.sqrt(np.log(i+1) / np.array(n_list)))\n",
    "        value = candidates[choice_ix]\n",
    "\n",
    "        score += value\n",
    "        n_list[choice_ix] += 1\n",
    "        if i % print_at_ix == 0 or i == n_iter-1:\n",
    "            print(f\"iteration: {i+1:4} | choice: {CHOICES_NAME[choice_ix]} | score: {score:4.2f}\")\n"
   ]
  },
  {
   "cell_type": "code",
   "execution_count": 18,
   "metadata": {},
   "outputs": [
    {
     "name": "stdout",
     "output_type": "stream",
     "text": [
      "iteration:    1 | choice: C | score: 4.86\n",
      "iteration:  101 | choice: C | score: 215.38\n",
      "iteration:  201 | choice: A | score: 382.70\n",
      "iteration:  301 | choice: B | score: 560.08\n",
      "iteration:  401 | choice: C | score: 775.14\n",
      "iteration:  501 | choice: B | score: 940.23\n",
      "iteration:  601 | choice: B | score: 1153.83\n",
      "iteration:  701 | choice: B | score: 1388.24\n",
      "iteration:  801 | choice: A | score: 1565.14\n",
      "iteration:  901 | choice: A | score: 1781.22\n",
      "iteration: 1000 | choice: C | score: 2002.40\n"
     ]
    }
   ],
   "source": [
    "ucb(1000, choices, c_val=2)"
   ]
  },
  {
   "cell_type": "code",
   "execution_count": null,
   "metadata": {},
   "outputs": [],
   "source": []
  }
 ],
 "metadata": {
  "kernelspec": {
   "display_name": "da-analysis",
   "language": "python",
   "name": "python3"
  },
  "language_info": {
   "codemirror_mode": {
    "name": "ipython",
    "version": 3
   },
   "file_extension": ".py",
   "mimetype": "text/x-python",
   "name": "python",
   "nbconvert_exporter": "python",
   "pygments_lexer": "ipython3",
   "version": "3.10.10"
  },
  "orig_nbformat": 4
 },
 "nbformat": 4,
 "nbformat_minor": 2
}
