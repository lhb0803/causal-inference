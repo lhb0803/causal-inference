{
 "cells": [
  {
   "cell_type": "code",
   "execution_count": 1,
   "metadata": {},
   "outputs": [],
   "source": [
    "import numpy as np\n",
    "import pandas as pd"
   ]
  },
  {
   "attachments": {},
   "cell_type": "markdown",
   "metadata": {},
   "source": [
    "## AB Test Simulation\n",
    "\n",
    "* A: CVR 30%\n",
    "* B: CVR 31%\n",
    "* C: CVR 32%"
   ]
  },
  {
   "cell_type": "code",
   "execution_count": 2,
   "metadata": {},
   "outputs": [],
   "source": [
    "A = 0.30\n",
    "B = 0.31\n",
    "C = 0.32\n",
    "\n",
    "products_cvr = [A, B, C]\n",
    "products_name = [\"A\", \"B\", \"C\"]"
   ]
  },
  {
   "attachments": {},
   "cell_type": "markdown",
   "metadata": {},
   "source": [
    "## 1. Greedy Algorithm"
   ]
  },
  {
   "cell_type": "code",
   "execution_count": 3,
   "metadata": {},
   "outputs": [],
   "source": [
    "def greedy(n_iter, products_cvr, products_name, init_popul_per_iter=1000, increment_size=200):\n",
    "    popul_total = 0\n",
    "    converted_total = 0\n",
    "    popul_size_per_iter = [init_popul_per_iter] * len(products_cvr)\n",
    "    for i in range(n_iter):\n",
    "        results = []\n",
    "        for ix, cvr in enumerate(products_cvr):\n",
    "            popul = popul_size_per_iter[ix]\n",
    "            converted = np.random.binomial(popul, cvr)\n",
    "\n",
    "            results.append(converted / popul)\n",
    "            popul_total += popul\n",
    "            converted_total += converted\n",
    "        \n",
    "        # update population\n",
    "        max_ix = np.argmax(results)\n",
    "        min_ix = np.argmin(results)\n",
    "        popul_size_per_iter[max_ix] = popul_size_per_iter[max_ix] + increment_size\n",
    "        popul_size_per_iter[min_ix] = popul_size_per_iter[min_ix] - increment_size\n",
    "\n",
    "        if 0 in popul_size_per_iter:\n",
    "            zero_ix = popul_size_per_iter.index(0)\n",
    "\n",
    "            popul_size_per_iter = popul_size_per_iter[:zero_ix] + popul_size_per_iter[zero_ix+1:]\n",
    "            products_cvr = products_cvr[:zero_ix] + products_cvr[zero_ix+1:]\n",
    "            products_name = products_name[:zero_ix] + products_name[zero_ix+1:]\n",
    "\n",
    "        print_str = f\"iteration: {i+1:3} | CVR: {100 * converted_total / popul_total:.2f}% | population: \"\n",
    "        for ix, popul_size in enumerate(popul_size_per_iter):\n",
    "            print_str += f\"{products_name[ix]}={popul_size} \"\n",
    "            \n",
    "        print(print_str)\n",
    "        "
   ]
  },
  {
   "cell_type": "code",
   "execution_count": 4,
   "metadata": {},
   "outputs": [
    {
     "name": "stdout",
     "output_type": "stream",
     "text": [
      "iteration:   1 | CVR: 30.53% | population: A=800 B=1200 C=1000 \n",
      "iteration:   2 | CVR: 30.88% | population: A=1000 B=1200 C=800 \n",
      "iteration:   3 | CVR: 30.36% | population: A=1000 B=1000 C=1000 \n",
      "iteration:   4 | CVR: 30.46% | population: A=800 B=1000 C=1200 \n",
      "iteration:   5 | CVR: 30.73% | population: A=600 B=1000 C=1400 \n",
      "iteration:   6 | CVR: 30.87% | population: A=400 B=1000 C=1600 \n",
      "iteration:   7 | CVR: 30.81% | population: A=200 B=1000 C=1800 \n",
      "iteration:   8 | CVR: 30.88% | population: A=400 B=1000 C=1600 \n",
      "iteration:   9 | CVR: 31.07% | population: A=200 B=1000 C=1800 \n",
      "iteration:  10 | CVR: 31.03% | population: B=1000 C=2000 \n"
     ]
    }
   ],
   "source": [
    "greedy(10, products_cvr, products_name)"
   ]
  },
  {
   "attachments": {},
   "cell_type": "markdown",
   "metadata": {},
   "source": [
    "## 2. Epsilon-Greedy Algorithm"
   ]
  },
  {
   "cell_type": "code",
   "execution_count": 5,
   "metadata": {},
   "outputs": [],
   "source": [
    "def e_greedy(n_iter, products_cvr, products_name, eps = 0.3, init_popul_per_iter=1000, increment_size=200):\n",
    "    popul_total = 0\n",
    "    converted_total = 0\n",
    "    popul_size_per_iter = [init_popul_per_iter] * len(products_cvr)\n",
    "    for i in range(n_iter):\n",
    "        results = []\n",
    "        for ix, cvr in enumerate(products_cvr):\n",
    "            popul = popul_size_per_iter[ix]\n",
    "            converted = np.random.binomial(popul, cvr)\n",
    "\n",
    "            results.append(converted / popul)\n",
    "            popul_total += popul\n",
    "            converted_total += converted\n",
    "        \n",
    "        # update population\n",
    "        if np.random.rand() > eps:\n",
    "            max_ix = np.argmax(results)\n",
    "            min_ix = np.argmin(results)\n",
    "        else:\n",
    "            max_ix, min_ix = np.random.choice(range(len(popul_size_per_iter)), size=2, replace=False)\n",
    "\n",
    "        popul_size_per_iter[max_ix] = popul_size_per_iter[max_ix] + increment_size\n",
    "        popul_size_per_iter[min_ix] = popul_size_per_iter[min_ix] - increment_size\n",
    "\n",
    "        if 0 in popul_size_per_iter:\n",
    "            zero_ix = popul_size_per_iter.index(0)\n",
    "\n",
    "            popul_size_per_iter = popul_size_per_iter[:zero_ix] + popul_size_per_iter[zero_ix+1:]\n",
    "            products_cvr = products_cvr[:zero_ix] + products_cvr[zero_ix+1:]\n",
    "            products_name = products_name[:zero_ix] + products_name[zero_ix+1:]\n",
    "\n",
    "        print_str = f\"iteration: {i+1:3} | CVR: {100 * converted_total / popul_total:.2f}% | population: \"\n",
    "        for ix, popul_size in enumerate(popul_size_per_iter):\n",
    "            print_str += f\"{products_name[ix]}={popul_size} \"\n",
    "            \n",
    "        print(print_str)\n",
    "        "
   ]
  },
  {
   "cell_type": "code",
   "execution_count": 6,
   "metadata": {},
   "outputs": [
    {
     "name": "stdout",
     "output_type": "stream",
     "text": [
      "iteration:   1 | CVR: 30.20% | population: A=1000 B=800 C=1200 \n",
      "iteration:   2 | CVR: 30.25% | population: A=1200 B=600 C=1200 \n",
      "iteration:   3 | CVR: 30.34% | population: A=1000 B=800 C=1200 \n",
      "iteration:   4 | CVR: 30.92% | population: A=800 B=1000 C=1200 \n",
      "iteration:   5 | CVR: 31.13% | population: A=800 B=800 C=1400 \n",
      "iteration:   6 | CVR: 31.31% | population: A=800 B=600 C=1600 \n",
      "iteration:   7 | CVR: 31.32% | population: A=600 B=600 C=1800 \n",
      "iteration:   8 | CVR: 31.48% | population: A=800 B=600 C=1600 \n",
      "iteration:   9 | CVR: 31.46% | population: A=600 B=600 C=1800 \n",
      "iteration:  10 | CVR: 31.45% | population: A=600 B=400 C=2000 \n"
     ]
    }
   ],
   "source": [
    "e_greedy(10, products_cvr, products_name)"
   ]
  },
  {
   "attachments": {},
   "cell_type": "markdown",
   "metadata": {},
   "source": [
    "## 3. UCB (Upper-Confidence-Bound) Algorithm"
   ]
  },
  {
   "cell_type": "code",
   "execution_count": 7,
   "metadata": {},
   "outputs": [],
   "source": [
    "def ucb(n_iter, products_cvr, products_name, c_val=5, init_popul_per_iter=1000, increment_size=200):\n",
    "    popul_total = 0\n",
    "    converted_total = 0\n",
    "    popul_size_per_iter = [init_popul_per_iter] * len(products_cvr)\n",
    "\n",
    "    n_list = [1] * len(products_cvr)\n",
    "    for i in range(n_iter):\n",
    "        results = []\n",
    "        for ix, cvr in enumerate(products_cvr):\n",
    "            popul = popul_size_per_iter[ix]\n",
    "            converted = np.random.binomial(popul, cvr)\n",
    "\n",
    "            results.append(converted / popul)\n",
    "            popul_total += popul\n",
    "            converted_total += converted\n",
    "        \n",
    "        # update population\n",
    "        max_ix = np.argmax(np.array(results) + c_val * np.sqrt(np.log(i+1) / np.array(n_list)))\n",
    "        min_ix = np.argmin(np.array(results) + c_val * np.sqrt(np.log(i+1) / np.array(n_list)))\n",
    "        popul_size_per_iter[max_ix] = popul_size_per_iter[max_ix] + increment_size\n",
    "        popul_size_per_iter[min_ix] = popul_size_per_iter[min_ix] - increment_size\n",
    "\n",
    "        n_list[max_ix] += 1\n",
    "\n",
    "        if 0 in popul_size_per_iter:\n",
    "            zero_ix = popul_size_per_iter.index(0)\n",
    "\n",
    "            popul_size_per_iter = popul_size_per_iter[:zero_ix] + popul_size_per_iter[zero_ix+1:]\n",
    "            products_cvr = products_cvr[:zero_ix] + products_cvr[zero_ix+1:]\n",
    "            products_name = products_name[:zero_ix] + products_name[zero_ix+1:]\n",
    "\n",
    "            n_list = n_list[:zero_ix] + n_list[zero_ix+1:]\n",
    "\n",
    "        print_str = f\"iteration: {i+1:3} | CVR: {100 * converted_total / popul_total:.2f}% | population: \"\n",
    "        for ix, popul_size in enumerate(popul_size_per_iter):\n",
    "            print_str += f\"{products_name[ix]}={popul_size} \"\n",
    "            \n",
    "        print(print_str)\n",
    "        "
   ]
  },
  {
   "cell_type": "code",
   "execution_count": 8,
   "metadata": {},
   "outputs": [
    {
     "name": "stdout",
     "output_type": "stream",
     "text": [
      "iteration:   1 | CVR: 31.97% | population: A=800 B=1200 C=1000 \n",
      "iteration:   2 | CVR: 31.43% | population: A=800 B=1000 C=1200 \n",
      "iteration:   3 | CVR: 31.51% | population: A=1000 B=800 C=1200 \n",
      "iteration:   4 | CVR: 31.51% | population: A=800 B=800 C=1400 \n",
      "iteration:   5 | CVR: 31.50% | population: A=800 B=1000 C=1200 \n",
      "iteration:   6 | CVR: 31.49% | population: A=1000 B=800 C=1200 \n",
      "iteration:   7 | CVR: 31.50% | population: A=1000 B=600 C=1400 \n",
      "iteration:   8 | CVR: 31.55% | population: A=1200 B=600 C=1200 \n",
      "iteration:   9 | CVR: 31.46% | population: A=1000 B=800 C=1200 \n",
      "iteration:  10 | CVR: 31.35% | population: A=800 B=800 C=1400 \n"
     ]
    }
   ],
   "source": [
    "ucb(10, products_cvr, products_name)"
   ]
  },
  {
   "attachments": {},
   "cell_type": "markdown",
   "metadata": {},
   "source": [
    "## 4. Thompson Sampling"
   ]
  },
  {
   "cell_type": "code",
   "execution_count": 9,
   "metadata": {},
   "outputs": [],
   "source": [
    "def thompson(n_iter, products_cvr, products_name, init_popul_per_iter=1000):\n",
    "    popul_total = 0\n",
    "    converted_total = 0\n",
    "    beta_params = np.array([[1, 1]] * len(products_cvr))\n",
    "    for i in range(n_iter):\n",
    "        # print(beta_params)\n",
    "        popul_per_product = [0] * len(products_cvr)\n",
    "        converted_per_product = [0] * len(products_cvr)\n",
    "        for j in range(init_popul_per_iter * len(products_cvr)):\n",
    "            picked_ix = np.argmax([np.random.beta(a,b) for a, b in beta_params])\n",
    "            popul_per_product[picked_ix] += 1\n",
    "\n",
    "            if np.random.binomial(1, products_cvr[picked_ix]) == 1: # converted\n",
    "                beta_params[picked_ix][0] += 1\n",
    "                converted_per_product[picked_ix] += 1\n",
    "            else: # not converted\n",
    "                beta_params[picked_ix][1] += 1\n",
    "            \n",
    "        converted_total += sum(converted_per_product)\n",
    "        popul_total += sum(popul_per_product)\n",
    "        print_str = f\"iteration: {i+1:3} | CVR: {100 * converted_total / popul_total:.2f}% | population: \"\n",
    "        for ix, popul_size in enumerate(popul_per_product):\n",
    "            print_str += f\"{products_name[ix]}={popul_size} \"\n",
    "\n",
    "        print(print_str)\n",
    "    \n",
    "    return beta_params.tolist()\n",
    "    "
   ]
  },
  {
   "cell_type": "code",
   "execution_count": 10,
   "metadata": {},
   "outputs": [
    {
     "name": "stdout",
     "output_type": "stream",
     "text": [
      "iteration:   1 | CVR: 30.80% | population: A=1705 B=1028 C=267 \n",
      "iteration:   2 | CVR: 30.75% | population: A=1849 B=848 C=303 \n",
      "iteration:   3 | CVR: 31.22% | population: A=1439 B=1190 C=371 \n",
      "iteration:   4 | CVR: 30.88% | population: A=1092 B=786 C=1122 \n",
      "iteration:   5 | CVR: 30.94% | population: A=1220 B=741 C=1039 \n",
      "iteration:   6 | CVR: 30.88% | population: A=1545 B=626 C=829 \n",
      "iteration:   7 | CVR: 30.87% | population: A=893 B=353 C=1754 \n",
      "iteration:   8 | CVR: 31.07% | population: A=485 B=299 C=2216 \n",
      "iteration:   9 | CVR: 31.18% | population: A=132 B=127 C=2741 \n",
      "iteration:  10 | CVR: 31.31% | population: A=119 B=126 C=2755 \n"
     ]
    }
   ],
   "source": [
    "beta_params = thompson(10, products_cvr, products_name)"
   ]
  },
  {
   "cell_type": "code",
   "execution_count": 11,
   "metadata": {},
   "outputs": [
    {
     "data": {
      "text/plain": [
       "[[3228, 7253], [1878, 4248], [4289, 9110]]"
      ]
     },
     "execution_count": 11,
     "metadata": {},
     "output_type": "execute_result"
    }
   ],
   "source": [
    "beta_params"
   ]
  },
  {
   "attachments": {},
   "cell_type": "markdown",
   "metadata": {},
   "source": [
    "# Simulate when CVR not known"
   ]
  },
  {
   "cell_type": "code",
   "execution_count": 12,
   "metadata": {},
   "outputs": [],
   "source": [
    "BASE_CVR = 0.3\n",
    "\n",
    "A = BASE_CVR\n",
    "B = BASE_CVR + (np.random.random() - 0.5) * 0.099\n",
    "C = BASE_CVR + (np.random.random() - 0.5) * 0.099\n",
    "D = BASE_CVR + (np.random.random() - 0.5) * 0.099\n",
    "\n",
    "products_cvr = [A, B, C, D]\n",
    "products_name = [\"A\", \"B\", \"C\", \"D\"]"
   ]
  },
  {
   "cell_type": "code",
   "execution_count": 14,
   "metadata": {},
   "outputs": [
    {
     "name": "stdout",
     "output_type": "stream",
     "text": [
      "------------------------------ greedy ------------------------------\n",
      "iteration:   1 | CVR: 29.65% | population: A=1000 B=1000 C=800 D=1200 \n",
      "iteration:   2 | CVR: 29.54% | population: A=1000 B=1000 C=600 D=1400 \n",
      "iteration:   3 | CVR: 29.93% | population: A=1000 B=1000 C=400 D=1600 \n",
      "iteration:   4 | CVR: 30.18% | population: A=1000 B=1000 C=200 D=1800 \n",
      "iteration:   5 | CVR: 30.08% | population: A=1000 B=1000 D=2000 \n",
      "iteration:   6 | CVR: 30.38% | population: A=800 B=1000 D=2200 \n",
      "iteration:   7 | CVR: 30.49% | population: A=800 B=800 D=2400 \n",
      "iteration:   8 | CVR: 30.70% | population: A=800 B=600 D=2600 \n",
      "iteration:   9 | CVR: 30.85% | population: A=800 B=400 D=2800 \n",
      "iteration:  10 | CVR: 31.11% | population: A=600 B=400 D=3000 \n",
      "------------------------------ e_greedy ------------------------------\n",
      "iteration:   1 | CVR: 29.62% | population: A=1200 B=1000 C=800 D=1000 \n",
      "iteration:   2 | CVR: 29.11% | population: A=1200 B=1000 C=600 D=1200 \n",
      "iteration:   3 | CVR: 29.65% | population: A=1200 B=1200 C=400 D=1200 \n",
      "iteration:   4 | CVR: 30.01% | population: A=1200 B=1200 C=200 D=1400 \n",
      "iteration:   5 | CVR: 30.00% | population: A=1200 B=1200 D=1600 \n",
      "iteration:   6 | CVR: 30.10% | population: A=1200 B=1000 D=1800 \n",
      "iteration:   7 | CVR: 30.28% | population: A=1200 B=800 D=2000 \n",
      "iteration:   8 | CVR: 30.49% | population: A=1200 B=600 D=2200 \n",
      "iteration:   9 | CVR: 30.67% | population: A=1200 B=400 D=2400 \n",
      "iteration:  10 | CVR: 30.75% | population: A=1000 B=400 D=2600 \n",
      "------------------------------ ucb ------------------------------\n",
      "iteration:   1 | CVR: 28.35% | population: A=1000 B=1000 C=800 D=1200 \n",
      "iteration:   2 | CVR: 28.52% | population: A=1200 B=1000 C=800 D=1000 \n",
      "iteration:   3 | CVR: 28.50% | population: A=1000 B=1200 C=800 D=1000 \n",
      "iteration:   4 | CVR: 29.06% | population: A=1000 B=1000 C=1000 D=1000 \n",
      "iteration:   5 | CVR: 29.07% | population: A=1000 B=1000 C=800 D=1200 \n",
      "iteration:   6 | CVR: 29.19% | population: A=1200 B=1000 C=800 D=1000 \n",
      "iteration:   7 | CVR: 29.07% | population: A=1000 B=1200 C=800 D=1000 \n",
      "iteration:   8 | CVR: 29.10% | population: A=1000 B=1000 C=1000 D=1000 \n",
      "iteration:   9 | CVR: 29.17% | population: A=1000 B=800 C=1000 D=1200 \n",
      "iteration:  10 | CVR: 29.26% | population: A=1200 B=800 C=1000 D=1000 \n",
      "------------------------------ thompson ------------------------------\n",
      "iteration:   1 | CVR: 32.05% | population: A=257 B=614 C=105 D=3024 \n",
      "iteration:   2 | CVR: 32.74% | population: A=208 B=129 C=11 D=3652 \n",
      "iteration:   3 | CVR: 33.10% | population: A=156 B=48 C=3 D=3793 \n",
      "iteration:   4 | CVR: 33.13% | population: A=98 B=15 C=6 D=3881 \n",
      "iteration:   5 | CVR: 33.16% | population: A=61 B=8 C=8 D=3923 \n",
      "iteration:   6 | CVR: 33.45% | population: A=17 B=5 C=6 D=3972 \n",
      "iteration:   7 | CVR: 33.62% | population: A=7 B=3 C=3 D=3987 \n",
      "iteration:   8 | CVR: 33.67% | population: A=9 B=2 C=3 D=3986 \n",
      "iteration:   9 | CVR: 33.56% | population: A=4 B=1 C=0 D=3995 \n",
      "iteration:  10 | CVR: 33.55% | population: A=4 B=2 C=2 D=3992 \n",
      "\n",
      "Answer!\n",
      "A: 30.00\n",
      "B: 27.31\n",
      "C: 26.02\n",
      "D: 34.30\n"
     ]
    }
   ],
   "source": [
    "for func, name in zip([greedy, e_greedy, ucb, thompson], [\"greedy\", \"e_greedy\", \"ucb\", \"thompson\"]):\n",
    "    print(f\"{'-'*30} {name} {'-'*30}\")\n",
    "    func(10, products_cvr, products_name)\n",
    "\n",
    "print(\"\\nAnswer!\")\n",
    "\n",
    "for cvr, name in zip(products_cvr, products_name):\n",
    "    print(f\"{name}: {100 * cvr:.2f}\")"
   ]
  },
  {
   "cell_type": "code",
   "execution_count": null,
   "metadata": {},
   "outputs": [],
   "source": []
  }
 ],
 "metadata": {
  "kernelspec": {
   "display_name": "da-analysis",
   "language": "python",
   "name": "python3"
  },
  "language_info": {
   "codemirror_mode": {
    "name": "ipython",
    "version": 3
   },
   "file_extension": ".py",
   "mimetype": "text/x-python",
   "name": "python",
   "nbconvert_exporter": "python",
   "pygments_lexer": "ipython3",
   "version": "3.10.10"
  },
  "orig_nbformat": 4
 },
 "nbformat": 4,
 "nbformat_minor": 2
}
