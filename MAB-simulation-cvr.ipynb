{
 "cells": [
  {
   "cell_type": "code",
   "execution_count": 1,
   "metadata": {},
   "outputs": [],
   "source": [
    "import numpy as np\n",
    "import pandas as pd"
   ]
  },
  {
   "attachments": {},
   "cell_type": "markdown",
   "metadata": {},
   "source": [
    "## AB Test Simulation\n",
    "\n",
    "* A: CVR 30%\n",
    "* B: CVR 31%\n",
    "* C: CVR 32%"
   ]
  },
  {
   "cell_type": "code",
   "execution_count": 2,
   "metadata": {},
   "outputs": [],
   "source": [
    "A = 0.30\n",
    "B = 0.31\n",
    "C = 0.32\n",
    "\n",
    "products_cvr = [A, B, C]\n",
    "products_name = [\"A\", \"B\", \"C\"]"
   ]
  },
  {
   "attachments": {},
   "cell_type": "markdown",
   "metadata": {},
   "source": [
    "## 1. Greedy Algorithm"
   ]
  },
  {
   "cell_type": "code",
   "execution_count": 3,
   "metadata": {},
   "outputs": [],
   "source": [
    "def greedy(n_iter, products_cvr, products_name, init_popul_per_iter=1000, increment_size=200):\n",
    "    popul_total = 0\n",
    "    converted_total = 0\n",
    "    popul_size_per_iter = [init_popul_per_iter] * len(products_cvr)\n",
    "    for i in range(n_iter):\n",
    "        results = []\n",
    "        for ix, cvr in enumerate(products_cvr):\n",
    "            popul = popul_size_per_iter[ix]\n",
    "            converted = np.random.binomial(popul, cvr)\n",
    "\n",
    "            results.append(converted / popul)\n",
    "            popul_total += popul\n",
    "            converted_total += converted\n",
    "        \n",
    "        # update population\n",
    "        max_ix = np.argmax(results)\n",
    "        min_ix = np.argmin(results)\n",
    "        popul_size_per_iter[max_ix] = popul_size_per_iter[max_ix] + increment_size\n",
    "        popul_size_per_iter[min_ix] = popul_size_per_iter[min_ix] - increment_size\n",
    "\n",
    "        if 0 in popul_size_per_iter:\n",
    "            zero_ix = popul_size_per_iter.index(0)\n",
    "\n",
    "            popul_size_per_iter = popul_size_per_iter[:zero_ix] + popul_size_per_iter[zero_ix+1:]\n",
    "            products_cvr = products_cvr[:zero_ix] + products_cvr[zero_ix+1:]\n",
    "            products_name = products_name[:zero_ix] + products_name[zero_ix+1:]\n",
    "\n",
    "        print_str = f\"iteration: {i+1:3} | CVR: {100 * converted_total / popul_total:.2f}% | population: \"\n",
    "        for ix, popul_size in enumerate(popul_size_per_iter):\n",
    "            print_str += f\"{products_name[ix]}={popul_size} \"\n",
    "            \n",
    "        print(print_str)\n",
    "        "
   ]
  },
  {
   "cell_type": "code",
   "execution_count": 4,
   "metadata": {},
   "outputs": [
    {
     "name": "stdout",
     "output_type": "stream",
     "text": [
      "iteration:   1 | CVR: 31.67% | population: A=1000 B=1200 C=800 \n",
      "iteration:   2 | CVR: 30.72% | population: A=800 B=1200 C=1000 \n",
      "iteration:   3 | CVR: 31.32% | population: A=800 B=1000 C=1200 \n",
      "iteration:   4 | CVR: 31.62% | population: A=600 B=1000 C=1400 \n",
      "iteration:   5 | CVR: 31.38% | population: A=400 B=1000 C=1600 \n",
      "iteration:   6 | CVR: 31.46% | population: A=600 B=800 C=1600 \n",
      "iteration:   7 | CVR: 31.50% | population: A=600 B=600 C=1800 \n",
      "iteration:   8 | CVR: 31.59% | population: A=400 B=600 C=2000 \n",
      "iteration:   9 | CVR: 31.55% | population: A=200 B=600 C=2200 \n",
      "iteration:  10 | CVR: 31.66% | population: B=600 C=2400 \n"
     ]
    }
   ],
   "source": [
    "greedy(10, products_cvr, products_name)"
   ]
  },
  {
   "attachments": {},
   "cell_type": "markdown",
   "metadata": {},
   "source": [
    "## 2. Epsilon-Greedy Algorithm"
   ]
  },
  {
   "cell_type": "code",
   "execution_count": 5,
   "metadata": {},
   "outputs": [],
   "source": [
    "def e_greedy(n_iter, products_cvr, products_name, eps = 0.3, init_popul_per_iter=1000, increment_size=200):\n",
    "    popul_total = 0\n",
    "    converted_total = 0\n",
    "    popul_size_per_iter = [init_popul_per_iter] * len(products_cvr)\n",
    "    for i in range(n_iter):\n",
    "        results = []\n",
    "        for ix, cvr in enumerate(products_cvr):\n",
    "            popul = popul_size_per_iter[ix]\n",
    "            converted = np.random.binomial(popul, cvr)\n",
    "\n",
    "            results.append(converted / popul)\n",
    "            popul_total += popul\n",
    "            converted_total += converted\n",
    "        \n",
    "        # update population\n",
    "        if np.random.rand() > eps:\n",
    "            max_ix = np.argmax(results)\n",
    "            min_ix = np.argmin(results)\n",
    "        else:\n",
    "            max_ix, min_ix = np.random.choice(range(len(popul_size_per_iter)), size=2, replace=False)\n",
    "\n",
    "        popul_size_per_iter[max_ix] = popul_size_per_iter[max_ix] + increment_size\n",
    "        popul_size_per_iter[min_ix] = popul_size_per_iter[min_ix] - increment_size\n",
    "\n",
    "        if 0 in popul_size_per_iter:\n",
    "            zero_ix = popul_size_per_iter.index(0)\n",
    "\n",
    "            popul_size_per_iter = popul_size_per_iter[:zero_ix] + popul_size_per_iter[zero_ix+1:]\n",
    "            products_cvr = products_cvr[:zero_ix] + products_cvr[zero_ix+1:]\n",
    "            products_name = products_name[:zero_ix] + products_name[zero_ix+1:]\n",
    "\n",
    "        print_str = f\"iteration: {i+1:3} | CVR: {100 * converted_total / popul_total:.2f}% | population: \"\n",
    "        for ix, popul_size in enumerate(popul_size_per_iter):\n",
    "            print_str += f\"{products_name[ix]}={popul_size} \"\n",
    "            \n",
    "        print(print_str)\n",
    "        "
   ]
  },
  {
   "cell_type": "code",
   "execution_count": 6,
   "metadata": {},
   "outputs": [
    {
     "name": "stdout",
     "output_type": "stream",
     "text": [
      "iteration:   1 | CVR: 30.07% | population: A=800 B=1200 C=1000 \n",
      "iteration:   2 | CVR: 30.40% | population: A=800 B=1400 C=800 \n",
      "iteration:   3 | CVR: 30.36% | population: A=600 B=1400 C=1000 \n",
      "iteration:   4 | CVR: 30.27% | population: A=400 B=1600 C=1000 \n",
      "iteration:   5 | CVR: 30.35% | population: A=200 B=1800 C=1000 \n",
      "iteration:   6 | CVR: 30.66% | population: B=1800 C=1200 \n",
      "iteration:   7 | CVR: 30.85% | population: B=1600 C=1400 \n",
      "iteration:   8 | CVR: 30.90% | population: B=1400 C=1600 \n",
      "iteration:   9 | CVR: 31.01% | population: B=1200 C=1800 \n",
      "iteration:  10 | CVR: 31.01% | population: B=1000 C=2000 \n"
     ]
    }
   ],
   "source": [
    "e_greedy(10, products_cvr, products_name)"
   ]
  },
  {
   "attachments": {},
   "cell_type": "markdown",
   "metadata": {},
   "source": [
    "## 3. UCB (Upper-Confidence-Bound) Algorithm"
   ]
  },
  {
   "cell_type": "code",
   "execution_count": null,
   "metadata": {},
   "outputs": [],
   "source": []
  }
 ],
 "metadata": {
  "kernelspec": {
   "display_name": "da-analysis",
   "language": "python",
   "name": "python3"
  },
  "language_info": {
   "codemirror_mode": {
    "name": "ipython",
    "version": 3
   },
   "file_extension": ".py",
   "mimetype": "text/x-python",
   "name": "python",
   "nbconvert_exporter": "python",
   "pygments_lexer": "ipython3",
   "version": "3.10.10"
  },
  "orig_nbformat": 4
 },
 "nbformat": 4,
 "nbformat_minor": 2
}
