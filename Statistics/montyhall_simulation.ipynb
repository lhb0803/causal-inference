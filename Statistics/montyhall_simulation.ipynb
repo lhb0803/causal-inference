{
 "cells": [
  {
   "cell_type": "code",
   "execution_count": 1,
   "metadata": {},
   "outputs": [],
   "source": [
    "import numpy as np\n",
    "import pandas as pd\n",
    "import matplotlib.pyplot as plt\n",
    "import seaborn as sns\n",
    "from typing import List\n",
    "\n",
    "from scipy import stats"
   ]
  },
  {
   "cell_type": "code",
   "execution_count": 2,
   "metadata": {},
   "outputs": [],
   "source": [
    "doors = ['A', 'B', 'C']\n",
    "\n",
    "def switcher(first_choice: str, left_choices: List[str]) -> str:\n",
    "    return [choice for choice in left_choices if choice != first_choice ][0]\n",
    "\n",
    "def stayer(first_choice: str) -> str:\n",
    "    return first_choice\n",
    "\n",
    "num_of_simulations = 1000"
   ]
  },
  {
   "cell_type": "code",
   "execution_count": 3,
   "metadata": {},
   "outputs": [
    {
     "name": "stdout",
     "output_type": "stream",
     "text": [
      "win rate: 66.50%\n"
     ]
    }
   ],
   "source": [
    "num_of_wins = 0\n",
    "\n",
    "for _ in range(num_of_simulations):\n",
    "    location_of_win = doors[np.random.randint(3)]\n",
    "    first_choice = doors[np.random.randint(3)]\n",
    "\n",
    "    monty_choice = [choice for choice in doors if choice != first_choice and choice != location_of_win][0]\n",
    "    left_choices = [choice for choice in doors if choice != monty_choice]\n",
    "    last_choice = switcher(first_choice, left_choices)\n",
    "\n",
    "    if last_choice == location_of_win:\n",
    "        num_of_wins += 1\n",
    "\n",
    "print(f\"win rate: {100 * num_of_wins / num_of_simulations:.2f}%\")"
   ]
  },
  {
   "cell_type": "code",
   "execution_count": 4,
   "metadata": {},
   "outputs": [
    {
     "name": "stdout",
     "output_type": "stream",
     "text": [
      "win rate: 33.40%\n"
     ]
    }
   ],
   "source": [
    "num_of_wins = 0\n",
    "\n",
    "for _ in range(num_of_simulations):\n",
    "    location_of_win = doors[np.random.randint(3)]\n",
    "    first_choice = doors[np.random.randint(3)]\n",
    "\n",
    "    monty_choice = [choice for choice in doors if choice != first_choice and choice != location_of_win][0]\n",
    "    left_choices = [choice for choice in doors if choice != monty_choice]\n",
    "    last_choice = stayer(first_choice)\n",
    "\n",
    "    if last_choice == location_of_win:\n",
    "        num_of_wins += 1\n",
    "\n",
    "print(f\"win rate: {100 * num_of_wins / num_of_simulations:.2f}%\")"
   ]
  },
  {
   "cell_type": "code",
   "execution_count": null,
   "metadata": {},
   "outputs": [],
   "source": []
  }
 ],
 "metadata": {
  "kernelspec": {
   "display_name": "causal",
   "language": "python",
   "name": "python3"
  },
  "language_info": {
   "codemirror_mode": {
    "name": "ipython",
    "version": 3
   },
   "file_extension": ".py",
   "mimetype": "text/x-python",
   "name": "python",
   "nbconvert_exporter": "python",
   "pygments_lexer": "ipython3",
   "version": "3.10.10"
  }
 },
 "nbformat": 4,
 "nbformat_minor": 2
}
